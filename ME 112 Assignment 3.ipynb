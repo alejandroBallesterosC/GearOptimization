{
 "cells": [
  {
   "cell_type": "code",
   "execution_count": 1,
   "metadata": {
    "collapsed": true
   },
   "outputs": [],
   "source": [
    "import numpy as np\n",
    "import itertools as it"
   ]
  },
  {
   "cell_type": "markdown",
   "metadata": {},
   "source": [
    "# Define Gear Properties"
   ]
  },
  {
   "cell_type": "code",
   "execution_count": 2,
   "metadata": {},
   "outputs": [],
   "source": [
    "P = 48 #Pitch [teeth/in]\n",
    "phi = np.pi*(20/180) #Pressure angle [rads]\n",
    "b = (3/16) #Face width [in]\n",
    "max_gears = 4 #only allow four gears to keep the gearbox compact\n",
    "min_total_gear_ratio = 11.75\n",
    "max_total_gear_ratio = 12.25\n",
    "min_teeth = 18\n",
    "max_teeth = 200\n",
    "possible_gears = [ N for N in range (min_teeth, max_teeth) if N/P < 2.0 ] #Number of teeth all possible gears that fit size constraint (Pd < 2.0 in)\n",
    "Qv = 10 #Quality Factor\n",
    "Km = 1.3 #Mounting Factor assuming precision bearings and mountings\n",
    "Ko = 1.5 #Overload Factor\n",
    "motor_torque = 3.5 #[lb-f*in]\n",
    "J = 4*[0.2] #worst case scenario Lewis form factor for all gears\n",
    "Su = 90*1000 #Ultimate tensile stress[psi]"
   ]
  },
  {
   "cell_type": "markdown",
   "metadata": {},
   "source": [
    "# Get all possible combinations of two stages"
   ]
  },
  {
   "cell_type": "code",
   "execution_count": 3,
   "metadata": {
    "collapsed": true
   },
   "outputs": [],
   "source": [
    "permutations = it.permutations(possible_gears, max_gears)\n",
    "possible_gear_orderings = [tuple(gear_ordering) for gear_ordering in permutations]#convert to list of tuples"
   ]
  },
  {
   "cell_type": "code",
   "execution_count": 4,
   "metadata": {},
   "outputs": [],
   "source": [
    "gear_orderings_with_desired_ratio = []\n",
    "for gear_ordering in possible_gear_orderings:\n",
    "    gear_ratio_1 = gear_ordering[1]/gear_ordering[0]\n",
    "    gear_ratio_2 = gear_ordering[3]/gear_ordering[2]\n",
    "    if (gear_ratio_1 > 1 and gear_ratio_2 > 1 and gear_ratio_1*gear_ratio_2 > min_total_gear_ratio\n",
    "    and gear_ratio_1*gear_ratio_2 < max_total_gear_ratio):\n",
    "        gear_orderings_with_desired_ratio.append(gear_ordering)"
   ]
  },
  {
   "cell_type": "markdown",
   "metadata": {},
   "source": [
    "# Compute base diameters & radii and pitch diameters & radii"
   ]
  },
  {
   "cell_type": "code",
   "execution_count": 5,
   "metadata": {},
   "outputs": [],
   "source": [
    "possible_gear_pitch_diameters = [(gear_ordering[0]/P, gear_ordering[1]/P, gear_ordering[2]/P, gear_ordering[3]/P)\n",
    "                                 for gear_ordering in gear_orderings_with_desired_ratio ] #pitch diameters for all possible gears [in]\n",
    "possible_gear_pitch_radii = [(Pd[0]/2, Pd[1]/2, Pd[2]/2, Pd[3]/2) for Pd in possible_gear_pitch_diameters] #pitch diameters for all possible gears [in]\n",
    "possible_gear_base_radii = [(rp[0]*np.cos(phi), rp[1]*np.cos(phi), rp[2]*np.cos(phi), rp[3]*np.cos(phi))\n",
    "                             for rp in possible_gear_pitch_radii] #base radii for all possible gears [in]"
   ]
  },
  {
   "cell_type": "markdown",
   "metadata": {},
   "source": [
    "# Filter out all gear orderings that don't leave sufficient space for assembly"
   ]
  },
  {
   "cell_type": "code",
   "execution_count": 6,
   "metadata": {},
   "outputs": [],
   "source": [
    "length = len(possible_gear_pitch_radii)\n",
    "i = 0\n",
    "while i < length:\n",
    "    gear_ordering_idx = i\n",
    "    gear_ordering = possible_gear_pitch_radii[i]\n",
    "    r1 = gear_ordering[0]\n",
    "    r2 = gear_ordering[1]\n",
    "    r3 = gear_ordering[2]\n",
    "    r4 = gear_ordering[3]\n",
    "    i+=1\n",
    "    if (r3+r4 <= r2):\n",
    "        del possible_gear_pitch_radii[gear_ordering_idx]\n",
    "        del possible_gear_pitch_diameters[gear_ordering_idx]\n",
    "        del possible_gear_base_radii[gear_ordering_idx]\n",
    "        del gear_orderings_with_desired_ratio[gear_ordering_idx]\n",
    "        length -= 1"
   ]
  },
  {
   "cell_type": "markdown",
   "metadata": {},
   "source": [
    "# Compute Vt and Kv"
   ]
  },
  {
   "cell_type": "code",
   "execution_count": 7,
   "metadata": {},
   "outputs": [],
   "source": [
    "B = 0.25*(12-Qv)**(2/3)\n",
    "A = 50+56*(1-B)\n",
    "RPM = 5000 #[revs/min]\n",
    "Vt = lambda rp: RPM*2*np.pi*rp/12\n",
    "possible_gear_tangential_velocities = [(Vt(rp[0]), Vt(rp[1]), Vt(rp[2]), Vt(rp[3])) for rp in possible_gear_pitch_radii] #[ft/min]\n",
    "Kv = lambda Vt: ((A + np.sqrt(Vt))/A)**B\n",
    "possible_gear_Kvs = [(Kv(Vt[0]), Kv(Vt[1]), Kv(Vt[2]), Kv(Vt[3])) for Vt in possible_gear_tangential_velocities]                                         "
   ]
  },
  {
   "cell_type": "markdown",
   "metadata": {},
   "source": [
    "# Compute Contact Ratio"
   ]
  },
  {
   "cell_type": "code",
   "execution_count": 8,
   "metadata": {},
   "outputs": [],
   "source": [
    "Pb = np.pi*np.cos(phi)/P #base pitch\n",
    "C = lambda rp1, rp2: rp1 + rp2 #center distance between two gears\n",
    "possible_gear_center_distances = [(C(rp[0],rp[1]), C(rp[2], rp[3])) for rp in possible_gear_pitch_radii]\n",
    "ra = lambda N: (N+2)/(2*P)\n",
    "possible_gear_addendum_radii = [(ra(N[0]), ra(N[1]), ra(N[2]), ra(N[3])) for N in gear_orderings_with_desired_ratio]\n",
    "Z = lambda ra1, ra2, rb1, rb2, C: np.sqrt(ra1**2 - rb1**2)+np.sqrt(ra2**2 - rb2**2) - C*np.sin(phi) #Contact Ratio numerator\n",
    "CR = []\n",
    "for i in range(len(possible_gear_addendum_radii)):\n",
    "    ra = possible_gear_addendum_radii[i]\n",
    "    rb = possible_gear_base_radii[i]\n",
    "    center_distance_1 = C(rb[0], rb[1])\n",
    "    numerator_1 = Z(ra[0], ra[1], rb[0], rb[1], center_distance_1)\n",
    "    center_distance_2 = C(rb[2], rb[3])\n",
    "    numerator_2 = Z(ra[2], ra[3], rb[2], rb[3], center_distance_2)\n",
    "    CR1 = numerator_1/Pb\n",
    "    CR2 = numerator_2/Pb\n",
    "    CR.append((CR1, CR2))                         "
   ]
  },
  {
   "cell_type": "markdown",
   "metadata": {},
   "source": [
    "# Compute Lewis AGMA Adjusted Bending Stresses for Gears 1 & 2"
   ]
  },
  {
   "cell_type": "code",
   "execution_count": 9,
   "metadata": {},
   "outputs": [],
   "source": [
    "tangential_force_gear_1_and_2 = [motor_torque/(rp1[0]) for rp1 in possible_gear_pitch_radii] #[lb-f]\n",
    "sigma_b = []\n",
    "for i in range(len(tangential_force_gear_1_and_2)):\n",
    "    Ft = tangential_force_gear_1_and_2[i]\n",
    "    Kv_ = possible_gear_Kvs[i]\n",
    "    sigma_b_1 = ((Ft*P)/(b*J[0]))*Km*Ko*Kv_[0]#bending stress [psi]\n",
    "    sigma_b_2 = ((Ft*P)/(b*J[1]))*Km*Ko*Kv_[1]#bending stress [psi]\n",
    "    sigma_b.append((sigma_b_1, sigma_b_2))"
   ]
  },
  {
   "cell_type": "markdown",
   "metadata": {},
   "source": [
    "# Compute Lewis AGMA Adjusted Bending Stresses for Gears 3 & 4"
   ]
  },
  {
   "cell_type": "code",
   "execution_count": 10,
   "metadata": {},
   "outputs": [],
   "source": [
    "tangential_force_gear_3_and_4 = [motor_torque*(rp3[1]/rp3[0])/(rp3[2]) for rp3 in possible_gear_pitch_radii] #[lb-f]\n",
    "for i in range(len(tangential_force_gear_3_and_4)):\n",
    "    Ft = tangential_force_gear_3_and_4[i]\n",
    "    Kv_ = possible_gear_Kvs[i]\n",
    "    sigma_b_3 = ((Ft*P)/(b*J[2]))*Km*Ko*Kv_[2]#bending stress [psi]\n",
    "    sigma_b_4 = ((Ft*P)/(b*J[3]))*Km*Ko*Kv_[3]#bending stress [psi]\n",
    "    sigma_b[i]= sigma_b[i]+(sigma_b_3, sigma_b_4)"
   ]
  },
  {
   "cell_type": "markdown",
   "metadata": {},
   "source": [
    "# Life time stress analysis"
   ]
  },
  {
   "cell_type": "code",
   "execution_count": 11,
   "metadata": {},
   "outputs": [],
   "source": [
    "Kr = 0.753\n",
    "Cs = 0.85\n",
    "Cf = 1\n",
    "Ks = 1\n",
    "Cl = 1\n",
    "Cg = 1\n",
    "Kt = 1 #moderate temperatures\n",
    "Kms = 1.4 #non-idler\n",
    "Sn_to_Su_ratio = 0.5 #infinite lifetime\n",
    "Snprime = Sn_to_Su_ratio* Su #Allowable fatigue stress\n",
    "Sn = Snprime*Cl*Cg*Cs*Kt*Kr*Kms #Maximum allowable stress [psi]"
   ]
  },
  {
   "cell_type": "code",
   "execution_count": 12,
   "metadata": {},
   "outputs": [
    {
     "data": {
      "text/plain": [
       "40323.149999999994"
      ]
     },
     "execution_count": 12,
     "metadata": {},
     "output_type": "execute_result"
    }
   ],
   "source": [
    "Sn"
   ]
  },
  {
   "cell_type": "markdown",
   "metadata": {},
   "source": [
    "# Pick gear combination whose stresses are farthest under max stress"
   ]
  },
  {
   "cell_type": "code",
   "execution_count": 17,
   "metadata": {},
   "outputs": [],
   "source": [
    "min = np.sum(sigma_b[0])/4\n",
    "best_combo = sigma_b[0]\n",
    "best_idx = 0\n",
    "for idx in range(1, len(sigma_b)):\n",
    "    gear_stress = sigma_b[idx]\n",
    "    obj = 1*np.sum(gear_stress)/4\n",
    "    if obj < min:\n",
    "        best_combo = gear_orderings_with_desired_ratio[idx]\n",
    "        best_idx = idx"
   ]
  },
  {
   "cell_type": "code",
   "execution_count": 18,
   "metadata": {},
   "outputs": [
    {
     "data": {
      "text/plain": [
       "(42, 95, 18, 94)"
      ]
     },
     "execution_count": 18,
     "metadata": {},
     "output_type": "execute_result"
    }
   ],
   "source": [
    "best_combo"
   ]
  },
  {
   "cell_type": "markdown",
   "metadata": {},
   "source": [
    "# Manually enter actual Lewis form factors and compute actual stresses"
   ]
  },
  {
   "cell_type": "code",
   "execution_count": 21,
   "metadata": {},
   "outputs": [],
   "source": [
    "J = [0.435, 0.45, 0.33, 0.43]\n",
    "final_stresses = []\n",
    "for i in range(len(J)):\n",
    "    Kv_ = possible_gear_Kvs[best_idx]\n",
    "    if i < 2:\n",
    "        Ft = tangential_force_gear_1_and_2[best_idx]\n",
    "    else:\n",
    "        Ft = tangential_force_gear_3_and_4[best_idx]\n",
    "    gear_stress = ((Ft*P)/(b*J[i]))*Km*Ko*Kv_[i] #[psi]\n",
    "    final_stresses.append(gear_stress)"
   ]
  },
  {
   "cell_type": "markdown",
   "metadata": {},
   "source": [
    "# Return final gear combination properties"
   ]
  },
  {
   "cell_type": "code",
   "execution_count": 29,
   "metadata": {},
   "outputs": [
    {
     "name": "stdout",
     "output_type": "stream",
     "text": [
      "best combination =  (42, 95, 18, 94)\n",
      "Lewis AGMA stresses =  [10503.99720414307, 10714.440815758875, 70104.042978834608, 59131.730397538275]\n",
      "final pitch radii =  (0.4375, 0.9895833333333334, 0.1875, 0.9791666666666666)\n",
      "final gear ratio =  11.812169312169312\n",
      "final outer radius =  (0.4583333333333333, 1.0104166666666667, 0.20833333333333334, 1.0)\n",
      "final base radius =  (0.41111552159383491, 0.92990415598605525, 0.17619236639735783, 0.92011569118620196)\n",
      "final contact ratios =  (2.2634392004061343, 2.0789057540517577)\n",
      "final pitch diameters =  (0.875, 1.9791666666666667, 0.375, 1.9583333333333333)\n",
      "final tangential tooth forces =  (8.0, 42.22222222222222)\n"
     ]
    }
   ],
   "source": [
    "final_pitch_radii = possible_gear_pitch_radii[best_idx]\n",
    "print(\"best combination = \", best_combo)\n",
    "print(\"Lewis AGMA stresses = \", final_stresses)\n",
    "print(\"final pitch radii = \", possible_gear_pitch_radii[best_idx])\n",
    "print(\"final gear ratio = \", (final_pitch_radii[1]/final_pitch_radii[0])*(final_pitch_radii[3]/final_pitch_radii[2]))\n",
    "print(\"final outer radius = \", possible_gear_addendum_radii[best_idx])\n",
    "print(\"final base radius = \", possible_gear_base_radii[best_idx])\n",
    "print(\"final contact ratios = \", CR[best_idx])\n",
    "print(\"final pitch diameters = \", possible_gear_pitch_diameters[best_idx])\n",
    "print(\"final tangential tooth forces = \", (tangential_force_gear_1_and_2[best_idx], tangential_force_gear_3_and_4[best_idx]))"
   ]
  },
  {
   "cell_type": "code",
   "execution_count": null,
   "metadata": {
    "collapsed": true
   },
   "outputs": [],
   "source": []
  }
 ],
 "metadata": {
  "kernelspec": {
   "display_name": "Python 3",
   "language": "python",
   "name": "python3"
  },
  "language_info": {
   "codemirror_mode": {
    "name": "ipython",
    "version": 3
   },
   "file_extension": ".py",
   "mimetype": "text/x-python",
   "name": "python",
   "nbconvert_exporter": "python",
   "pygments_lexer": "ipython3",
   "version": "3.6.2"
  }
 },
 "nbformat": 4,
 "nbformat_minor": 2
}
